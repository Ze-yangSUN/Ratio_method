{
 "cells": [
  {
   "cell_type": "markdown",
   "id": "ddc49946-1712-4259-89f8-a16cb7c6b63e",
   "metadata": {},
   "source": [
    "# The case when the two data sets are correlated\n",
    "### C: the covariance matrix of the two data sets.\n",
    "\n",
    "### If we choose the mapping matrix ${\\bf A}_1 = {\\bf I}, {\\bf A}_2 = R{\\bf I}$."
   ]
  },
  {
   "cell_type": "code",
   "execution_count": 1,
   "id": "909f547f-4e3e-4395-8f61-f6c2836967f4",
   "metadata": {
    "execution": {
     "iopub.execute_input": "2023-09-03T02:38:46.897882Z",
     "iopub.status.busy": "2023-09-03T02:38:46.897561Z",
     "iopub.status.idle": "2023-09-03T02:39:05.875299Z",
     "shell.execute_reply": "2023-09-03T02:39:05.874681Z",
     "shell.execute_reply.started": "2023-09-03T02:38:46.897848Z"
    },
    "tags": []
   },
   "outputs": [],
   "source": [
    "import numpy as np\n",
    "import matplotlib.pyplot as plt \n",
    "import matplotlib\n",
    "from matplotlib.ticker import AutoMinorLocator\n",
    "fontsize=22\n",
    "matplotlib.rcParams.update({'font.size':fontsize})\n",
    "\n",
    "plt.rcParams['xtick.direction'] = 'in'\n",
    "plt.rcParams['ytick.direction'] = 'in'"
   ]
  },
  {
   "cell_type": "code",
   "execution_count": 2,
   "id": "cc645d38-1af7-48c0-8fc9-f7771acfbd92",
   "metadata": {
    "execution": {
     "iopub.execute_input": "2023-09-03T02:41:32.527622Z",
     "iopub.status.busy": "2023-09-03T02:41:32.527249Z",
     "iopub.status.idle": "2023-09-03T02:41:32.532677Z",
     "shell.execute_reply": "2023-09-03T02:41:32.532119Z",
     "shell.execute_reply.started": "2023-09-03T02:41:32.527591Z"
    },
    "tags": []
   },
   "outputs": [],
   "source": [
    "N_d = 10  # number of data points\n",
    "\n",
    "def generate_data_sets(N_d):\n",
    "    '''\n",
    "    Generate two Gaussian data sets.\n",
    "    '''\n",
    "    d1 = np.random.normal(loc = 1, scale = 0.2, size=N_d) # d1, d2 are Gaussian distributed\n",
    "    d2 = d1 * 2\n",
    "\n",
    "    n1 = np.random.rand(N_d)*0.4  # random fractional error\n",
    "    n2 = n1*2\n",
    "    cov1 = np.diag(n1**2)  # here do not consider the off-diagnal terms,\n",
    "    cov2 = np.diag(n2**2)  # this method also works for the full covariance matrix, \n",
    "                           # e.g. d1 errors are correlated\n",
    "    return d1, d2, n1, n2, cov1, cov2\n",
    "d1, d2, n1, n2, cov1, cov2 = generate_data_sets(N_d)"
   ]
  },
  {
   "cell_type": "code",
   "execution_count": 3,
   "id": "3e2a455b-38a2-434e-897f-894b58e04054",
   "metadata": {
    "execution": {
     "iopub.execute_input": "2023-09-03T02:41:36.615472Z",
     "iopub.status.busy": "2023-09-03T02:41:36.615118Z",
     "iopub.status.idle": "2023-09-03T02:41:37.368485Z",
     "shell.execute_reply": "2023-09-03T02:41:37.368046Z",
     "shell.execute_reply.started": "2023-09-03T02:41:36.615447Z"
    },
    "tags": []
   },
   "outputs": [
    {
     "data": {
      "image/png": "[encoded data removed]",
      "text/plain": [
       "<Figure size 432x288 with 1 Axes>"
      ]
     },
     "metadata": {
      "needs_background": "light"
     },
     "output_type": "display_data"
    }
   ],
   "source": [
    "def plot_data_sets(N_d, d1, d2, n1, n2):\n",
    "    plt.errorbar(np.arange(N_d), d1, n1, c = 'r', marker='o', label='d1')\n",
    "    plt.errorbar(np.arange(N_d), d2, n2, c = 'b', marker='o', label='d2')\n",
    "    plt.xlabel('x')\n",
    "    plt.ylabel('y')\n",
    "    ax = plt.gca()\n",
    "    xminorLocator = AutoMinorLocator()\n",
    "    yminorLocator = AutoMinorLocator()\n",
    "    ax.xaxis.set_minor_locator(xminorLocator)\n",
    "    ax.yaxis.set_minor_locator(yminorLocator)\n",
    "    ax.tick_params(labelsize=fontsize)\n",
    "    ax.spines['bottom'].set_linewidth(2)\n",
    "    ax.spines['left'].set_linewidth(2)\n",
    "    ax.spines['top'].set_linewidth(2)\n",
    "    ax.spines['right'].set_linewidth(2)\n",
    "    ax.tick_params(axis='x',which='major',size=8,width=2)\n",
    "    ax.tick_params(axis='y',which='major',size=8,width=2)\n",
    "    ax.tick_params(axis='x',which='minor',size=4,width=1)\n",
    "    ax.tick_params(axis='y',which='minor',size=4,width=1)\n",
    "plot_data_sets(N_d, d1, d2, n1, n2)"
   ]
  },
  {
   "cell_type": "code",
   "execution_count": 5,
   "id": "4d43527b-7d2f-44e7-bdd2-9d2b7ec54ad8",
   "metadata": {
    "execution": {
     "iopub.execute_input": "2023-09-03T04:17:12.624950Z",
     "iopub.status.busy": "2023-09-03T04:17:12.624585Z",
     "iopub.status.idle": "2023-09-03T04:17:12.629031Z",
     "shell.execute_reply": "2023-09-03T04:17:12.628488Z",
     "shell.execute_reply.started": "2023-09-03T04:17:12.624926Z"
    },
    "tags": []
   },
   "outputs": [
    {
     "data": {
      "text/plain": [
       "5"
      ]
     },
     "execution_count": 5,
     "metadata": {},
     "output_type": "execute_result"
    }
   ],
   "source": [
    "10//2"
   ]
  },
  {
   "cell_type": "code",
   "execution_count": null,
   "id": "b9e99ddf-64e6-4cd4-8644-457ee35c0d16",
   "metadata": {},
   "outputs": [],
   "source": [
    "def joint_matrix(A, B):\n",
    "    lenA = len(A)\n",
    "    lenB = len(B)\n",
    "    leftmatrix = np.row_stack((A, np.zeros((lenB, lenA))))\n",
    "    rightmatrix = np.row_stack((np.zeros((lenA, lenB)), B))\n",
    "    matrix = np.hstack((leftmatrix, rightmatrix))\n",
    "    return matrix\n",
    "\n",
    "def \n",
    "\n",
    "def prob_mul_corr_R(d1,d2,d1_C22,d1_C23,d2_C22,d2_C23,R22,R23):\n",
    "    from numpy.linalg import inv\n",
    "    n = d1.shape[0] // 2\n",
    "    R_vec = np.array((R22, R23))\n",
    "    A = np.identity(n)  # block identical matrix\n",
    "    a1 = np.identity(2*n)  # shape=(12,12)\n",
    "    a2 = joint_matrix(A*R22, A*R23)  # shape=(12,12)\n",
    "    \n",
    "    cov1 = joint_matrix(d1_C22, d1_C23)\n",
    "    cov2 = joint_matrix(d2_C22, d2_C23)\n",
    "    q1 = Matrix3(a1.T, inv(cov1), a1)\n",
    "    q2 = Matrix3(a2.T, inv(cov2), a2)\n",
    "    q = q1 + q2\n",
    "    d1 = d1.reshape(1,2*n)\n",
    "    d2 = d2.reshape(1,2*n)\n",
    "    x1 = Matrix3(a1.T, inv(cov1), d1.T)\n",
    "    x2 = Matrix3(a2.T, inv(cov2), d2.T)\n",
    "    x = x1 + x2\n",
    "    return 0.5 * Matrix3(x.T, inv(q), x), (np.linalg.det(q))**(-0.5)\n",
    "    \n",
    "def pdf_mul_corr_R():\n",
    "    Exp_index=[]\n",
    "    DetQ=[]\n",
    "    D1 = np.hstack((d1[3][a:b], d1[4][a:b]))\n",
    "    D2 = np.hstack((d2[3][a:b], d2[4][a:b]))\n",
    "\n",
    "    Exp_index = np.zeros((NR, NR))\n",
    "    DetQ = np.zeros((NR, NR))\n",
    "    for i in range(NR):\n",
    "        for j in range(NR):\n",
    "            exp_index, detQ = prob_mul_corr_R(d1=D2,d2=D1,d1_C22=d2_cov[3][a:b,a:b], d1_C23=d2_cov[4][a:b,a:b], \n",
    "                                              d2_C22=d1_cov[3][a:b,a:b], d2_C23=d1_cov[4][a:b,a:b], R22=R[i], R23=R[j])\n",
    "            Exp_index[i,j] = exp_index\n",
    "            DetQ[i,j] = detQ\n",
    "    # print ('exp index=',Exp_index)\n",
    "    index_max = Exp_index.max()\n",
    "\n",
    "    PROB = np.exp(Exp_index - index_max) * DetQ\n",
    "    y = PROB/PROB.max()\n",
    "    area = deltaR * np.sum(y)\n",
    "    y_norm = y / area \n",
    "    P22 = np.sum(y_norm, axis=1)\n",
    "    P23 = np.sum(y_norm, axis=0)\n",
    "    max_index22 = np.argmax(P22)\n",
    "    R_mean22 = R[max_index22]\n",
    "    max_index23 = np.argmax(P23)\n",
    "    R_mean23 = R[max_index23]\n",
    "# #     print (max_index, R_mean, y_norm)\n",
    "    return max_index22, R_mean22, P22, max_index23, R_mean23, P23\n",
    "\n",
    "def plot_pdf_mul_corr():\n",
    "    max_index22, R_mean22, P22, max_index23, R_mean23, P23 = pdf_mul_corr_R()\n",
    "    max_index22, R_mean22, P22 = prior_1divR(P22)\n",
    "    max_index23, R_mean23, P23 = prior_1divR(P23)\n",
    "    x1_22, x2_22, delta_x1_22, delta_x2_22 = pdf_1sigma(max_index22, R_mean22, P22)\n",
    "    x1_23, x2_23, delta_x1_23, delta_x2_23 = pdf_1sigma(max_index23, R_mean23, P23)\n",
    "    print ('R_mean22, delta_x1_22, delta_x2_22=',R_mean22, delta_x1_22, delta_x2_22)\n",
    "    print ('R_mean23, delta_x1_23, delta_x2_23=',R_mean23, delta_x1_23, delta_x2_23)\n",
    "    snr_22 = R_mean22 / (delta_x1_22+delta_x2_22) * 2\n",
    "    snr_23 = R_mean23 / (delta_x1_23+delta_x2_23) * 2\n",
    "    print ('snr_22=',snr_22)\n",
    "    print ('snr_23=',snr_23)\n",
    "    return R_mean22, delta_x1_22, delta_x2_22, R_mean23, delta_x1_23, delta_x2_23\n"
   ]
  },
  {
   "cell_type": "code",
   "execution_count": 4,
   "id": "854ce345-dee0-4b80-a207-0de1beeab640",
   "metadata": {
    "execution": {
     "iopub.execute_input": "2023-06-04T04:17:52.786373Z",
     "iopub.status.busy": "2023-06-04T04:17:52.786179Z",
     "iopub.status.idle": "2023-06-04T04:17:52.798360Z",
     "shell.execute_reply": "2023-06-04T04:17:52.797962Z",
     "shell.execute_reply.started": "2023-06-04T04:17:52.786353Z"
    },
    "tags": []
   },
   "outputs": [],
   "source": [
    "def unbiased_R_estimator(d1,d2,cov1,cov2):\n",
    "    deltaR=0.001 \n",
    "    R = np.arange(1,3,deltaR) # try various R\n",
    "    NR = len(R)\n",
    "    \n",
    "    def Matrix3(M1,M2,M3): # Multiplication of three matrices\n",
    "        return np.dot(np.dot(M1,M2),M3)\n",
    "\n",
    "    def prob_R(d1,d2,cov1,cov2,R):\n",
    "        from numpy.linalg import inv\n",
    "        n = d1.shape[0]\n",
    "        a1 = np.identity(n) # the mapping matrix A1, A2 is indentity\n",
    "        a2 = a1 * R         # Eq.19 in paper\n",
    "        q1 = Matrix3(a1.T, inv(cov1), a1)  \n",
    "        q2 = Matrix3(a2.T, inv(cov2), a2)\n",
    "        q = q1 + q2  # defination is below Eq.5\n",
    "        d1 = d1.reshape(1,n)\n",
    "        d2 = d2.reshape(1,n)\n",
    "        t1 = Matrix3(a1.T, inv(cov1), d1.T)\n",
    "        t2 = Matrix3(a2.T, inv(cov2), d2.T)\n",
    "        t = t1 + t2  # defination is below Eq.5\n",
    "        return 0.5 * Matrix3(t.T, inv(q), t), np.sqrt(np.linalg.det(q)) # two terms in Eq.8\n",
    "\n",
    "    def pdf(d1,d2,cov1,cov2,R):\n",
    "        Exp_index=[]; DetQ=[]\n",
    "        for rr in range(NR):\n",
    "            exp_index, detQ = prob_R(d1=d1,d2=d2,cov1=cov1,cov2=cov2,R=R[rr])\n",
    "            Exp_index.append(exp_index)\n",
    "            DetQ.append(detQ)\n",
    "        Exp_index = np.array(Exp_index).reshape(NR)\n",
    "        index_max = max(Exp_index)\n",
    "\n",
    "        # To avoid numerical errors associated with too large/small exponential terms,\n",
    "        # a safer way is to evaluate the r.h.s of Eq.10 as a function of R,\n",
    "        # find the maximum, and then subtract this maximum before evaluating P(R).\n",
    "        PROB = np.exp(Exp_index - index_max) * DetQ\n",
    "        y = PROB/PROB.max() / R # Jefferys 1/R prior\n",
    "        area = deltaR * np.sum(y)\n",
    "        y_norm = y / area   # PDF normalization\n",
    "        max_index = np.argmax(y_norm)\n",
    "        R_mean = R[max_index]  # find the bestfit R, which means PDF reaches the maximum\n",
    "        return max_index, R_mean, y_norm\n",
    "\n",
    "    def pdf_1sigma(max_index, R_mean, y_norm):\n",
    "        # find the lower limit of R, which requires the integral area is 0.34 (1-sigma)\n",
    "        f = np.ones(max_index)\n",
    "        for x in range(0,max_index):\n",
    "            f[x] = abs(0.34 / deltaR - np.sum(y_norm[x:max_index])) \n",
    "        x1 = np.argmin(f)  # the index of lower limit R\n",
    "\n",
    "        # find the upper limit of R, which requires the integral area is 0.34 (1-sigma)\n",
    "        v = np.ones(NR - max_index)\n",
    "        for u in range(max_index,NR):\n",
    "            v[u-max_index] = abs(0.34 / deltaR - np.sum(y_norm[max_index:u]))\n",
    "        x2 = max_index + np.argmin(v) # the index of upper limit R\n",
    "\n",
    "        delta_x1 = R[max_index] - R[x1]\n",
    "        delta_x2 = R[x2] - R[max_index]\n",
    "        return x1, x2, delta_x1, delta_x2\n",
    "    \n",
    "    def gaussian_func(mu,sigma):\n",
    "        gau = 1./np.sqrt(2*np.pi) * np.exp(-(R-mu)**2 / 2./sigma**2)\n",
    "        return gau\n",
    "    \n",
    "    max_index, R_mean, y_norm = pdf(d1,d2,cov1,cov2,R)\n",
    "    x1, x2, delta_x1, delta_x2 = pdf_1sigma(max_index, R_mean, y_norm)\n",
    "    \n",
    "    delta_x = (delta_x1 + delta_x2) / 2\n",
    "    gau = gaussian_func(R_mean, delta_x)\n",
    "    sum_gau = np.sum(gau)*deltaR\n",
    "    gau_norm = gau / sum_gau\n",
    "    \n",
    "    return R, R_mean, y_norm, x1, x2, max_index, delta_x1, delta_x2, gau_norm"
   ]
  },
  {
   "cell_type": "code",
   "execution_count": 5,
   "id": "f38c4989-6fcc-4d1a-b655-c04362fbb48a",
   "metadata": {
    "execution": {
     "iopub.execute_input": "2023-06-04T04:17:52.799800Z",
     "iopub.status.busy": "2023-06-04T04:17:52.799499Z",
     "iopub.status.idle": "2023-06-04T04:17:53.692700Z",
     "shell.execute_reply": "2023-06-04T04:17:53.692235Z",
     "shell.execute_reply.started": "2023-06-04T04:17:52.799781Z"
    },
    "tags": []
   },
   "outputs": [
    {
     "data": {
      "image/png": "[encoded data removed]",
      "text/plain": [
       "<Figure size 432x288 with 1 Axes>"
      ]
     },
     "metadata": {
      "needs_background": "light"
     },
     "output_type": "display_data"
    }
   ],
   "source": [
    "def plot_pdf():\n",
    "    R, R_mean, y_norm, x1, x2, max_index, delta_x1, delta_x2, gau_norm = unbiased_R_estimator(d1,d2,cov1,cov2)\n",
    "    plt.plot(R,gau_norm,'c--',lw=2, label='Gaussian')\n",
    "    \n",
    "    plt.plot(R,y_norm,'k', lw=2.5, label='$R = %1.2f^{+%.2f}_{-%.2f}$'%(R_mean, delta_x2, delta_x1))\n",
    "    plt.vlines(R_mean, 0, y_norm[max_index], color='r',ls='--')\n",
    "    plt.vlines(R[x1], 0, y_norm[x1], color='b',ls='--')\n",
    "    plt.vlines(R[x2], 0, y_norm[x2], color='b',ls='--')\n",
    "    \n",
    "    ax = plt.gca()\n",
    "    xminorLocator = AutoMinorLocator()\n",
    "    yminorLocator = AutoMinorLocator()\n",
    "    ax.xaxis.set_minor_locator(xminorLocator)\n",
    "    ax.yaxis.set_minor_locator(yminorLocator)\n",
    "    ax.tick_params(labelsize=fontsize)\n",
    "    ax.spines['bottom'].set_linewidth(2)\n",
    "    ax.spines['left'].set_linewidth(2)\n",
    "    ax.spines['top'].set_linewidth(2)\n",
    "    ax.spines['right'].set_linewidth(2)\n",
    "    ax.tick_params(axis='x',which='major',size=8,width=2)\n",
    "    ax.tick_params(axis='y',which='major',size=8,width=2)\n",
    "    ax.tick_params(axis='x',which='minor',size=4,width=1)\n",
    "    ax.tick_params(axis='y',which='minor',size=4,width=1)\n",
    "    plt.xlabel('$R$')\n",
    "    plt.ylabel('$P(R)$')\n",
    "    plt.ylim(0)\n",
    "    plt.legend(fontsize=fontsize, bbox_to_anchor=(1.05, 0.5), loc=3)\n",
    "plot_pdf()"
   ]
  }
 ],
 "metadata": {
  "kernelspec": {
   "display_name": "py3.7",
   "language": "python",
   "name": "py3.7"
  },
  "language_info": {
   "codemirror_mode": {
    "name": "ipython",
    "version": 3
   },
   "file_extension": ".py",
   "mimetype": "text/x-python",
   "name": "python",
   "nbconvert_exporter": "python",
   "pygments_lexer": "ipython3",
   "version": "3.7.10"
  }
 },
 "nbformat": 4,
 "nbformat_minor": 5
}
