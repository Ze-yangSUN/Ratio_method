{
 "cells": [
  {
   "cell_type": "markdown",
   "id": "ddc49946-1712-4259-89f8-a16cb7c6b63e",
   "metadata": {},
   "source": [
    "# The case when the two data sets are correlated\n",
    "### C: the covariance matrix of the two data sets.\n",
    "\n",
    "### If we choose the mapping matrix ${\\bf A}_1 = {\\bf I}, {\\bf A}_2 = R{\\bf I}$."
   ]
  },
  {
   "cell_type": "code",
   "execution_count": 3,
   "id": "909f547f-4e3e-4395-8f61-f6c2836967f4",
   "metadata": {
    "execution": {
     "iopub.execute_input": "2023-09-03T07:24:49.624872Z",
     "iopub.status.busy": "2023-09-03T07:24:49.624592Z",
     "iopub.status.idle": "2023-09-03T07:24:50.155024Z",
     "shell.execute_reply": "2023-09-03T07:24:50.154405Z",
     "shell.execute_reply.started": "2023-09-03T07:24:49.624849Z"
    },
    "tags": []
   },
   "outputs": [],
   "source": [
    "import numpy as np\n",
    "import matplotlib.pyplot as plt \n",
    "import matplotlib\n",
    "from matplotlib.ticker import AutoMinorLocator\n",
    "from numpy.linalg import inv\n",
    "\n",
    "fontsize=22\n",
    "matplotlib.rcParams.update({'font.size':fontsize})\n",
    "\n",
    "plt.rcParams['xtick.direction'] = 'in'\n",
    "plt.rcParams['ytick.direction'] = 'in'"
   ]
  },
  {
   "cell_type": "code",
   "execution_count": 208,
   "id": "cc645d38-1af7-48c0-8fc9-f7771acfbd92",
   "metadata": {
    "execution": {
     "iopub.execute_input": "2023-09-03T08:34:23.919763Z",
     "iopub.status.busy": "2023-09-03T08:34:23.919485Z",
     "iopub.status.idle": "2023-09-03T08:34:23.949723Z",
     "shell.execute_reply": "2023-09-03T08:34:23.949288Z",
     "shell.execute_reply.started": "2023-09-03T08:34:23.919741Z"
    },
    "tags": []
   },
   "outputs": [],
   "source": [
    "N_d = 10  # number of data points\n",
    "\n",
    "def generate_data_sets(N_d):\n",
    "    '''\n",
    "    Generate two Gaussian data sets.\n",
    "    '''\n",
    "    d1 = np.random.normal(loc = 1, scale = 0.2, size=N_d) # d1, d2 are Gaussian distributed\n",
    "    d2 = np.random.normal(loc = 2, scale = 0.4, size=N_d) \n",
    "\n",
    "    n1 = np.random.rand(N_d)*0.2  # random fractional error\n",
    "    n2 = np.random.rand(N_d)*0.4\n",
    "    C11 = np.diag(n1**2)\n",
    "    C22 = np.diag(n2**2)\n",
    "\n",
    "    # here we consider the off-diagnal terms, assuming C12 is a zeros matrix,\n",
    "    # put your covariance matrix C12, C21 here\n",
    "    C12 = np.zeros((N_d, N_d))\n",
    "    C21 = C12\n",
    "    return d1, d2, n1, n2, C11, C12, C21, C22\n",
    "\n",
    "d1, d2, n1, n2, C11, C12, C21, C22 = generate_data_sets(N_d)\n",
    "\n",
    "np.save('example_data/d1.npy', d1)\n",
    "np.save('example_data/d2.npy', d2)\n",
    "np.save('example_data/C11.npy', C11)\n",
    "np.save('example_data/C12.npy', C12)\n",
    "np.save('example_data/C21.npy', C21)\n",
    "np.save('example_data/C22.npy', C22)\n",
    "# If we apply this d1, d2, C11, C22 as the inputs in the simplest case,\n",
    "# the ratio result is identical.\n",
    "# because C12=C21=0 matrix is a spetial case of correlated data case"
   ]
  },
  {
   "cell_type": "code",
   "execution_count": 214,
   "id": "3e2a455b-38a2-434e-897f-894b58e04054",
   "metadata": {
    "execution": {
     "iopub.execute_input": "2023-09-03T08:34:30.158016Z",
     "iopub.status.busy": "2023-09-03T08:34:30.157756Z",
     "iopub.status.idle": "2023-09-03T08:34:30.305480Z",
     "shell.execute_reply": "2023-09-03T08:34:30.305058Z",
     "shell.execute_reply.started": "2023-09-03T08:34:30.157994Z"
    },
    "tags": []
   },
   "outputs": [
    {
     "data": {
      "image/png": "[encoded data removed]",
      "text/plain": [
       "<Figure size 432x288 with 1 Axes>"
      ]
     },
     "metadata": {
      "needs_background": "light"
     },
     "output_type": "display_data"
    }
   ],
   "source": [
    "def plot_data_sets(N_d, d1, d2, n1, n2):\n",
    "    plt.errorbar(np.arange(N_d), d1, n1, c = 'r', marker='o', label='d1')\n",
    "    plt.errorbar(np.arange(N_d), d2, n2, c = 'b', marker='o', label='d2')\n",
    "    plt.xlabel('x')\n",
    "    plt.ylabel('y')\n",
    "    ax = plt.gca()\n",
    "    xminorLocator = AutoMinorLocator()\n",
    "    yminorLocator = AutoMinorLocator()\n",
    "    ax.xaxis.set_minor_locator(xminorLocator)\n",
    "    ax.yaxis.set_minor_locator(yminorLocator)\n",
    "    ax.tick_params(labelsize=fontsize)\n",
    "    ax.spines['bottom'].set_linewidth(2)\n",
    "    ax.spines['left'].set_linewidth(2)\n",
    "    ax.spines['top'].set_linewidth(2)\n",
    "    ax.spines['right'].set_linewidth(2)\n",
    "    ax.tick_params(axis='x',which='major',size=8,width=2)\n",
    "    ax.tick_params(axis='y',which='major',size=8,width=2)\n",
    "    ax.tick_params(axis='x',which='minor',size=4,width=1)\n",
    "    ax.tick_params(axis='y',which='minor',size=4,width=1)\n",
    "plot_data_sets(N_d, d1, d2, n1, n2)"
   ]
  },
  {
   "cell_type": "code",
   "execution_count": 215,
   "id": "4d43527b-7d2f-44e7-bdd2-9d2b7ec54ad8",
   "metadata": {
    "execution": {
     "iopub.execute_input": "2023-09-03T08:34:30.634255Z",
     "iopub.status.busy": "2023-09-03T08:34:30.633884Z",
     "iopub.status.idle": "2023-09-03T08:34:30.648070Z",
     "shell.execute_reply": "2023-09-03T08:34:30.647653Z",
     "shell.execute_reply.started": "2023-09-03T08:34:30.634235Z"
    },
    "tags": []
   },
   "outputs": [],
   "source": [
    "def unbiased_R_estimator_corr(d1, d2, C11, C12, C21, C22): # correlated d1, d2\n",
    "    deltaR=0.001 \n",
    "    R = np.arange(1,3,deltaR) # try various R\n",
    "    NR = len(R)\n",
    "    \n",
    "    def Matrix3(M1,M2,M3): # Multiplication of three matrices\n",
    "        return np.dot(np.dot(M1,M2),M3)\n",
    "\n",
    "    def block_matrix(M11, M12, M21, M22):\n",
    "        M = np.block([[M11, M12],[M21, M22]])\n",
    "        return M\n",
    "    \n",
    "    def block_matrix_inverse(C11, C12, C21, C22):\n",
    "        B11 = inv(C11 - Matrix3(C12, inv(C22), C21))\n",
    "        B12 = - Matrix3(B11, C12, inv(C22))\n",
    "        B21 = - Matrix3(inv(C22), C21, B11)\n",
    "        B22 = inv(C22) + Matrix3(-B21, C12, inv(C22))\n",
    "        return B11, B12, B21, B22\n",
    "    \n",
    "    def prob_R(d1, d2, C11, C12, C21, C22, R):\n",
    "        d_vec = np.array((d1, d2)) # data vector d in Eq.11\n",
    "        n = d1.shape[0]\n",
    "        a1 = np.identity(n) # the mapping matrix A1, A2 is indentity\n",
    "        a2 = a1 * R         # Eq.19 in paper\n",
    "        B11, B12, B21, B22 = block_matrix_inverse(C11, C12, C21, C22)\n",
    "        q = Matrix3(a1.T, B11, a1) + Matrix3(a1.T, B12, a2) + Matrix3(a2.T, B21, a1) + Matrix3(a2.T, B22, a2) # Eq.14\n",
    "        # print (d1.shape)\n",
    "        d1 = d1.reshape(n,1)\n",
    "        d2 = d2.reshape(n,1)\n",
    "        t = Matrix3(a1.T, B11, d1) + Matrix3(a1.T, B12, d2) + Matrix3(a2.T, B21, d1) + Matrix3(a2.T, B22, d2) # Eq.15\n",
    "        return 0.5 * Matrix3(t.T, inv(q), t), np.sqrt(np.linalg.det(q)) # two terms in Eq.17 (exp index term & det term)\n",
    "\n",
    "    def pdf(d1,d2,C11,C12,C21,C22,R):\n",
    "        Exp_index=[]; DetQ=[]\n",
    "        for rr in range(NR):\n",
    "            exp_index, detQ = prob_R(d1=d1,d2=d2,C11=C11,C12=C12,C21=C21,C22=C22,R=R[rr])\n",
    "            Exp_index.append(exp_index)\n",
    "            DetQ.append(detQ)\n",
    "        Exp_index = np.array(Exp_index).reshape(NR)\n",
    "        index_max = max(Exp_index)\n",
    "\n",
    "        # To avoid numerical errors associated with too large/small exponential terms,\n",
    "        # a safer way is to evaluate the r.h.s of Eq.10 as a function of R,\n",
    "        # find the maximum, and then subtract this maximum before evaluating P(R).\n",
    "        PROB = np.exp(Exp_index - index_max) * DetQ\n",
    "        y = PROB/PROB.max() / R  # Jefferys 1/R prior\n",
    "        area = deltaR * np.sum(y)\n",
    "        y_norm = y / area   # PDF normalization\n",
    "        max_index = np.argmax(y_norm)\n",
    "        R_mean = R[max_index]  # find the bestfit R, which means PDF reaches the maximum\n",
    "        return max_index, R_mean, y_norm\n",
    "\n",
    "    def pdf_1sigma(max_index, R_mean, y_norm):\n",
    "        # find the lower limit of R, which requires the integral area is 0.34 (1-sigma)\n",
    "        f = np.ones(max_index)\n",
    "        for x in range(0,max_index):\n",
    "            f[x] = abs(0.34 / deltaR - np.sum(y_norm[x:max_index])) \n",
    "        x1 = np.argmin(f)  # the index of lower limit R\n",
    "\n",
    "        # find the upper limit of R, which requires the integral area is 0.34 (1-sigma)\n",
    "        v = np.ones(NR - max_index)\n",
    "        for u in range(max_index,NR):\n",
    "            v[u-max_index] = abs(0.34 / deltaR - np.sum(y_norm[max_index:u]))\n",
    "        x2 = max_index + np.argmin(v) # the index of upper limit R\n",
    "\n",
    "        delta_x1 = R[max_index] - R[x1]\n",
    "        delta_x2 = R[x2] - R[max_index]\n",
    "        return x1, x2, delta_x1, delta_x2\n",
    "    \n",
    "    def gaussian_func(mu,sigma):\n",
    "        gau = 1./np.sqrt(2*np.pi) * np.exp(-(R-mu)**2 / 2./sigma**2)\n",
    "        return gau\n",
    "    \n",
    "    max_index, R_mean, y_norm = pdf(d1,d2,C11, C12, C21, C22,R)\n",
    "    x1, x2, delta_x1, delta_x2 = pdf_1sigma(max_index, R_mean, y_norm)\n",
    "    \n",
    "    delta_x = (delta_x1 + delta_x2) / 2\n",
    "    gau = gaussian_func(R_mean, delta_x)\n",
    "    sum_gau = np.sum(gau)*deltaR\n",
    "    gau_norm = gau / sum_gau\n",
    "    \n",
    "    return R, R_mean, y_norm, x1, x2, max_index, delta_x1, delta_x2, gau_norm"
   ]
  },
  {
   "cell_type": "code",
   "execution_count": 216,
   "id": "f38c4989-6fcc-4d1a-b655-c04362fbb48a",
   "metadata": {
    "execution": {
     "iopub.execute_input": "2023-09-03T08:34:30.983308Z",
     "iopub.status.busy": "2023-09-03T08:34:30.983105Z",
     "iopub.status.idle": "2023-09-03T08:34:31.968488Z",
     "shell.execute_reply": "2023-09-03T08:34:31.967973Z",
     "shell.execute_reply.started": "2023-09-03T08:34:30.983290Z"
    },
    "tags": []
   },
   "outputs": [
    {
     "data": {
      "image/png": "[encoded data removed]",
      "text/plain": [
       "<Figure size 432x288 with 1 Axes>"
      ]
     },
     "metadata": {
      "needs_background": "light"
     },
     "output_type": "display_data"
    }
   ],
   "source": [
    "def plot_pdf():\n",
    "    R, R_mean, y_norm, x1, x2, max_index, delta_x1, delta_x2, gau_norm = unbiased_R_estimator_corr(d1,d2,C11, C12, C21, C22)\n",
    "    plt.plot(R,gau_norm,'c--',lw=2, label='Gaussian')\n",
    "    \n",
    "    plt.plot(R,y_norm,'k', lw=2.5, label='$R = %1.2f^{+%.2f}_{-%.2f}$'%(R_mean, delta_x2, delta_x1))\n",
    "    plt.vlines(R_mean, 0, y_norm[max_index], color='r',ls='--')\n",
    "    plt.vlines(R[x1], 0, y_norm[x1], color='b',ls='--')\n",
    "    plt.vlines(R[x2], 0, y_norm[x2], color='b',ls='--')\n",
    "    \n",
    "    ax = plt.gca()\n",
    "    xminorLocator = AutoMinorLocator()\n",
    "    yminorLocator = AutoMinorLocator()\n",
    "    ax.xaxis.set_minor_locator(xminorLocator)\n",
    "    ax.yaxis.set_minor_locator(yminorLocator)\n",
    "    ax.tick_params(labelsize=fontsize)\n",
    "    ax.spines['bottom'].set_linewidth(2)\n",
    "    ax.spines['left'].set_linewidth(2)\n",
    "    ax.spines['top'].set_linewidth(2)\n",
    "    ax.spines['right'].set_linewidth(2)\n",
    "    ax.tick_params(axis='x',which='major',size=8,width=2)\n",
    "    ax.tick_params(axis='y',which='major',size=8,width=2)\n",
    "    ax.tick_params(axis='x',which='minor',size=4,width=1)\n",
    "    ax.tick_params(axis='y',which='minor',size=4,width=1)\n",
    "    plt.xlabel('$R$')\n",
    "    plt.ylabel('$P(R)$')\n",
    "    plt.ylim(0)\n",
    "    plt.legend(fontsize=fontsize, bbox_to_anchor=(1.05, 0.5), loc=3)\n",
    "plot_pdf()"
   ]
  },
  {
   "cell_type": "code",
   "execution_count": null,
   "id": "32bd1d3c-99f7-4774-b4af-f24b372b08c0",
   "metadata": {},
   "outputs": [],
   "source": []
  },
  {
   "cell_type": "code",
   "execution_count": null,
   "id": "37aa9da6-9b57-4590-9176-236b83d70a78",
   "metadata": {},
   "outputs": [],
   "source": []
  }
 ],
 "metadata": {
  "kernelspec": {
   "display_name": "py3.7",
   "language": "python",
   "name": "py3.7"
  },
  "language_info": {
   "codemirror_mode": {
    "name": "ipython",
    "version": 3
   },
   "file_extension": ".py",
   "mimetype": "text/x-python",
   "name": "python",
   "nbconvert_exporter": "python",
   "pygments_lexer": "ipython3",
   "version": "3.7.10"
  }
 },
 "nbformat": 4,
 "nbformat_minor": 5
}
